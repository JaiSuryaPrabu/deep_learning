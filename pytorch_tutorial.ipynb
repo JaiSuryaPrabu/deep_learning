{
  "nbformat": 4,
  "nbformat_minor": 0,
  "metadata": {
    "colab": {
      "provenance": [],
      "gpuType": "T4",
      "authorship_tag": "ABX9TyPrdPOyATAOgNSKISoHY+RS",
      "include_colab_link": true
    },
    "kernelspec": {
      "name": "python3",
      "display_name": "Python 3"
    },
    "language_info": {
      "name": "python"
    },
    "accelerator": "GPU",
    "gpuClass": "standard"
  },
  "cells": [
    {
      "cell_type": "markdown",
      "metadata": {
        "id": "view-in-github",
        "colab_type": "text"
      },
      "source": [
        "<a href=\"https://colab.research.google.com/github/JaiSuryaPrabu/deep_learning/blob/main/pytorch_tutorial.ipynb\" target=\"_parent\"><img src=\"https://colab.research.google.com/assets/colab-badge.svg\" alt=\"Open In Colab\"/></a>"
      ]
    },
    {
      "cell_type": "markdown",
      "source": [
        "# Pytorch \n",
        "## Resource Link\n",
        "https://www.learnpytorch.io/"
      ],
      "metadata": {
        "id": "Ogd4PyfcAF5K"
      }
    },
    {
      "cell_type": "markdown",
      "source": [
        "# 1. Pytorch fundamentals"
      ],
      "metadata": {
        "id": "Cy5z6O7oAOh0"
      }
    },
    {
      "cell_type": "code",
      "execution_count": 2,
      "metadata": {
        "id": "TJKgcL82AAFm",
        "colab": {
          "base_uri": "https://localhost:8080/",
          "height": 36
        },
        "outputId": "7530227f-221d-41f2-9940-f595d5eeb969"
      },
      "outputs": [
        {
          "output_type": "execute_result",
          "data": {
            "text/plain": [
              "'2.0.1+cu118'"
            ],
            "application/vnd.google.colaboratory.intrinsic+json": {
              "type": "string"
            }
          },
          "metadata": {},
          "execution_count": 2
        }
      ],
      "source": [
        "# importing torch and checking its version\n",
        "import torch\n",
        "torch.__version__"
      ]
    },
    {
      "cell_type": "markdown",
      "source": [
        "## Tensor"
      ],
      "metadata": {
        "id": "aEduDH0TNBU4"
      }
    },
    {
      "cell_type": "code",
      "source": [
        "# 0 dimensinal tensor - Scalar\n",
        "scalar = torch.tensor(10)\n",
        "print(scalar)\n",
        "\n",
        "# dimensions\n",
        "print(\"The number of dimensions in the scalar : \",scalar.ndim)\n",
        "\n",
        "# from tensor.Torch to int data type\n",
        "# item() is only for scalar\n",
        "print(scalar.item())"
      ],
      "metadata": {
        "colab": {
          "base_uri": "https://localhost:8080/"
        },
        "id": "pt9oiEw9MJy4",
        "outputId": "d148678a-f571-4d51-c04b-57ff5814eebb"
      },
      "execution_count": 3,
      "outputs": [
        {
          "output_type": "stream",
          "name": "stdout",
          "text": [
            "tensor(10)\n",
            "The number of dimensions in the scalar :  0\n",
            "10\n"
          ]
        }
      ]
    },
    {
      "cell_type": "code",
      "source": [
        "# 1D tensor - vector\n",
        "vector = torch.tensor([10,10])\n",
        "print(vector)\n",
        "\n",
        "# dimensions\n",
        "print(\"The number of dimensions in the vector : \",vector.ndim)\n",
        "\n",
        "# shape\n",
        "print(\"The shape of the vector : \",vector.shape)"
      ],
      "metadata": {
        "colab": {
          "base_uri": "https://localhost:8080/"
        },
        "id": "yWEyV8TNNPeA",
        "outputId": "bdc97dfc-8405-4faf-eefe-c41dd8073c2d"
      },
      "execution_count": 4,
      "outputs": [
        {
          "output_type": "stream",
          "name": "stdout",
          "text": [
            "tensor([10, 10])\n",
            "The number of dimensions in the vector :  1\n",
            "The shape of the vector :  torch.Size([2])\n"
          ]
        }
      ]
    },
    {
      "cell_type": "code",
      "source": [
        "# Matrix \n",
        "matrix = torch.tensor(\n",
        "    [[1,2,3],\n",
        "    [4,5,6],\n",
        "    [7,8,9]]\n",
        ")\n",
        "print(matrix)\n",
        "\n",
        "# dimensions\n",
        "print(\"The dimensions in the matrix : \",matrix.ndim)\n",
        "\n",
        "# shape \n",
        "print(\"The shape of the matrix : \",matrix.shape)"
      ],
      "metadata": {
        "colab": {
          "base_uri": "https://localhost:8080/"
        },
        "id": "PR2XrovdOyPi",
        "outputId": "ffa9c1f9-2ec4-4676-ac7a-55768f92b739"
      },
      "execution_count": 5,
      "outputs": [
        {
          "output_type": "stream",
          "name": "stdout",
          "text": [
            "tensor([[1, 2, 3],\n",
            "        [4, 5, 6],\n",
            "        [7, 8, 9]])\n",
            "The dimensions in the matrix :  2\n",
            "The shape of the matrix :  torch.Size([3, 3])\n"
          ]
        }
      ]
    },
    {
      "cell_type": "code",
      "source": [
        "# Tensors\n",
        "tensors = torch.tensor(\n",
        "    [[[1,2,3],\n",
        "      [4,5,6],\n",
        "      [7,8,9]]]\n",
        ")\n",
        "\n",
        "print(tensors,tensors.shape,tensors.ndim)"
      ],
      "metadata": {
        "colab": {
          "base_uri": "https://localhost:8080/"
        },
        "id": "Ol4B-42iP-dS",
        "outputId": "f6c19571-f690-456f-d1eb-8bbe7f576401"
      },
      "execution_count": 6,
      "outputs": [
        {
          "output_type": "stream",
          "name": "stdout",
          "text": [
            "tensor([[[1, 2, 3],\n",
            "         [4, 5, 6],\n",
            "         [7, 8, 9]]]) torch.Size([1, 3, 3]) 3\n"
          ]
        }
      ]
    },
    {
      "cell_type": "markdown",
      "source": [
        "## Random Tensors"
      ],
      "metadata": {
        "id": "cIsfGcl4Yunk"
      }
    },
    {
      "cell_type": "code",
      "source": [
        "# torch.rand() gives random tensors\n",
        "# arguments : \n",
        "#   size = (rows , columns)\n",
        "\n",
        "random_tensor = torch.rand(size = (3,3))\n",
        "print(random_tensor)\n",
        "\n",
        "# to know about the data type\n",
        "print(random_tensor.dtype)"
      ],
      "metadata": {
        "colab": {
          "base_uri": "https://localhost:8080/"
        },
        "id": "UScBwJ9aYwww",
        "outputId": "2a954f1a-0cbb-4fe9-fc28-9ba89ef6678e"
      },
      "execution_count": 7,
      "outputs": [
        {
          "output_type": "stream",
          "name": "stdout",
          "text": [
            "tensor([[0.8890, 0.3524, 0.3225],\n",
            "        [0.5395, 0.5693, 0.5614],\n",
            "        [0.7932, 0.6283, 0.6758]])\n",
            "torch.float32\n"
          ]
        }
      ]
    },
    {
      "cell_type": "code",
      "source": [
        "# tensors of zeros\n",
        "zero_tensors = torch.zeros(size = (3,3))\n",
        "print(zero_tensors)"
      ],
      "metadata": {
        "colab": {
          "base_uri": "https://localhost:8080/"
        },
        "id": "77AXFCJZZpX6",
        "outputId": "5ea0176e-ef27-4347-e588-8be9b2f9e3a0"
      },
      "execution_count": 8,
      "outputs": [
        {
          "output_type": "stream",
          "name": "stdout",
          "text": [
            "tensor([[0., 0., 0.],\n",
            "        [0., 0., 0.],\n",
            "        [0., 0., 0.]])\n"
          ]
        }
      ]
    },
    {
      "cell_type": "code",
      "source": [
        "# tensors of ones\n",
        "one_tensors = torch.ones(size=(3,3))\n",
        "one_tensors"
      ],
      "metadata": {
        "colab": {
          "base_uri": "https://localhost:8080/"
        },
        "id": "p9ebSUOmZ0zs",
        "outputId": "2f09900f-91b2-4006-9e16-fbf7836f32e8"
      },
      "execution_count": 9,
      "outputs": [
        {
          "output_type": "execute_result",
          "data": {
            "text/plain": [
              "tensor([[1., 1., 1.],\n",
              "        [1., 1., 1.],\n",
              "        [1., 1., 1.]])"
            ]
          },
          "metadata": {},
          "execution_count": 9
        }
      ]
    },
    {
      "cell_type": "markdown",
      "source": [
        "## Range of tensors"
      ],
      "metadata": {
        "id": "o1q_mi-EaE0Z"
      }
    },
    {
      "cell_type": "code",
      "source": [
        "# arange(start , end , step)\n",
        "range_tensor = torch.arange(start=0,end=10,step=1)\n",
        "range_tensor"
      ],
      "metadata": {
        "colab": {
          "base_uri": "https://localhost:8080/"
        },
        "id": "12cICFBpaHRO",
        "outputId": "0772e95a-48f3-469d-d79f-684f597a141f"
      },
      "execution_count": 10,
      "outputs": [
        {
          "output_type": "execute_result",
          "data": {
            "text/plain": [
              "tensor([0, 1, 2, 3, 4, 5, 6, 7, 8, 9])"
            ]
          },
          "metadata": {},
          "execution_count": 10
        }
      ]
    },
    {
      "cell_type": "code",
      "source": [
        "# copying the shape of another tensor\n",
        "\n",
        "# zeros_like(input)\n",
        "zero_copied = torch.zeros_like(range_tensor)\n",
        "print(zero_copied)\n",
        "\n",
        "# ones_like(input)\n",
        "ones_copied = torch.ones_like(zero_tensors)\n",
        "print(ones_copied)"
      ],
      "metadata": {
        "colab": {
          "base_uri": "https://localhost:8080/"
        },
        "id": "eNxOWXggcBdm",
        "outputId": "e28d6e14-3ee1-4af1-a4d9-3fb30738c60b"
      },
      "execution_count": 11,
      "outputs": [
        {
          "output_type": "stream",
          "name": "stdout",
          "text": [
            "tensor([0, 0, 0, 0, 0, 0, 0, 0, 0, 0])\n",
            "tensor([[1., 1., 1.],\n",
            "        [1., 1., 1.],\n",
            "        [1., 1., 1.]])\n"
          ]
        }
      ]
    },
    {
      "cell_type": "markdown",
      "source": [
        "## Tensor Datatype"
      ],
      "metadata": {
        "id": "TuBrBxUfdQXl"
      }
    },
    {
      "cell_type": "markdown",
      "source": [
        "* Float\n",
        "    * 32 bit\n",
        "    * 64 bit\n",
        "    * 16 bit\n",
        "* Complex\n",
        "    * 32 bit\n",
        "    * 64 bit\n",
        "    * 128 bit\n",
        "* Integer\n",
        "    * 8 bit\n",
        "        * signed\n",
        "        * unsigned\n",
        "    * 16 bit\n",
        "        * signed\n",
        "    * 32 bit\n",
        "        * signed\n",
        "    * 64 bit\n",
        "        * signed\n",
        "    * Quantized\n",
        "        * 4 bit\n",
        "            * unsigned \n",
        "        * 8 bit\n",
        "            * signed\n",
        "            * unsigned\n",
        "        * 32 bit\n",
        "            * signed\n",
        "* Boolean"
      ],
      "metadata": {
        "id": "aMw2H0PQea_n"
      }
    },
    {
      "cell_type": "code",
      "source": [
        "# float default values\n",
        "float_tensor = torch.tensor([0.1,0.2,0.3],\n",
        "                            dtype = None,\n",
        "                            device = None,\n",
        "                            requires_grad = False)\n",
        "\n",
        "float_tensor.dtype,float_tensor.device"
      ],
      "metadata": {
        "colab": {
          "base_uri": "https://localhost:8080/"
        },
        "id": "DUdNmkNPdSni",
        "outputId": "028d7c66-aa67-420b-dd3d-24a0e822bb2a"
      },
      "execution_count": 12,
      "outputs": [
        {
          "output_type": "execute_result",
          "data": {
            "text/plain": [
              "(torch.float32, device(type='cpu'))"
            ]
          },
          "metadata": {},
          "execution_count": 12
        }
      ]
    },
    {
      "cell_type": "markdown",
      "source": [
        "## Information from tensors"
      ],
      "metadata": {
        "id": "DwmJXAoTWtKr"
      }
    },
    {
      "cell_type": "code",
      "source": [
        "# the main informations are\n",
        "#   1. Shape\n",
        "#   2. Data type\n",
        "#   3. Device\n",
        "info_tensor = torch.rand(size=(3,3))\n",
        "print(\"The tensor : \",info_tensor)\n",
        "print(\"\\nThe Data type of the tensor : \",info_tensor.dtype)\n",
        "print(\"\\nThe Device of the tensor : \",info_tensor.device)"
      ],
      "metadata": {
        "colab": {
          "base_uri": "https://localhost:8080/"
        },
        "id": "zlD_WVzQW-ju",
        "outputId": "99cee2c3-bed9-415a-a528-caab38da95fa"
      },
      "execution_count": 13,
      "outputs": [
        {
          "output_type": "stream",
          "name": "stdout",
          "text": [
            "The tensor :  tensor([[0.8771, 0.3615, 0.9222],\n",
            "        [0.4467, 0.3304, 0.2865],\n",
            "        [0.9943, 0.6444, 0.3749]])\n",
            "\n",
            "The Data type of the tensor :  torch.float32\n",
            "\n",
            "The Device of the tensor :  cpu\n"
          ]
        }
      ]
    },
    {
      "cell_type": "markdown",
      "source": [
        "## Tensor Operations\n",
        "* Additions\n",
        "* Subtraction\n",
        "* Mutliplication\n",
        "* Division\n",
        "* Matrix Multiplication"
      ],
      "metadata": {
        "id": "TvIAsXNBY2sa"
      }
    },
    {
      "cell_type": "code",
      "source": [
        "sample_tensor = torch.tensor([1,2,3,4])\n",
        "\n",
        "print(\"Tensor : \",sample_tensor)\n",
        "\n",
        "# addition - torch.add()\n",
        "print(\"Addition : \",sample_tensor + 10)\n",
        "\n",
        "# subtraction\n",
        "print(\"Subtraction : \",sample_tensor - 10)\n",
        "\n",
        "# multiplication\n",
        "print(\"Multiplication : \",sample_tensor * 10)\n",
        "\n",
        "# division\n",
        "print(\"Division : \",sample_tensor / 10)\n",
        "\n",
        "# multiplication of two tensors\n",
        "sample_tensor * sample_tensor"
      ],
      "metadata": {
        "colab": {
          "base_uri": "https://localhost:8080/"
        },
        "id": "v6qbGzbVZgaM",
        "outputId": "f289bed8-babe-444a-8066-5571c53a8930"
      },
      "execution_count": 14,
      "outputs": [
        {
          "output_type": "stream",
          "name": "stdout",
          "text": [
            "Tensor :  tensor([1, 2, 3, 4])\n",
            "Addition :  tensor([11, 12, 13, 14])\n",
            "Subtraction :  tensor([-9, -8, -7, -6])\n",
            "Multiplication :  tensor([10, 20, 30, 40])\n",
            "Division :  tensor([0.1000, 0.2000, 0.3000, 0.4000])\n"
          ]
        },
        {
          "output_type": "execute_result",
          "data": {
            "text/plain": [
              "tensor([ 1,  4,  9, 16])"
            ]
          },
          "metadata": {},
          "execution_count": 14
        }
      ]
    },
    {
      "cell_type": "markdown",
      "source": [
        "### Matrix Multiplication"
      ],
      "metadata": {
        "id": "2jaW4SgabCqW"
      }
    },
    {
      "cell_type": "code",
      "source": [
        "# torch.matmul(tensor,tensor)\n",
        "\n",
        "# Rules\n",
        "# Matrix 1 = (row 1, column 1)\n",
        "# Matrix 2 = (row 2, column 2)\n",
        "# 1. column 1 == row 2\n",
        "\n",
        "tensor_1 = torch.rand(size=(3,2))\n",
        "tensor_2 = torch.rand(size=(2,3))\n",
        "tensor_3 = torch.matmul(tensor_1,tensor_2)\n",
        "\n",
        "print(tensor_1,\"\\n*\\n\",tensor_2,\"\\n=\\n\",tensor_3)"
      ],
      "metadata": {
        "colab": {
          "base_uri": "https://localhost:8080/"
        },
        "id": "kV-ufdaMbGIj",
        "outputId": "2a63864c-8088-4861-c820-a2be5ea7de7e"
      },
      "execution_count": 15,
      "outputs": [
        {
          "output_type": "stream",
          "name": "stdout",
          "text": [
            "tensor([[0.8680, 0.3678],\n",
            "        [0.4549, 0.9076],\n",
            "        [0.4681, 0.9495]]) \n",
            "*\n",
            " tensor([[0.4133, 0.8495, 0.7520],\n",
            "        [0.6083, 0.5633, 0.9606]]) \n",
            "=\n",
            " tensor([[0.5825, 0.9445, 1.0061],\n",
            "        [0.7401, 0.8976, 1.2139],\n",
            "        [0.7710, 0.9325, 1.2641]])\n"
          ]
        }
      ]
    },
    {
      "cell_type": "markdown",
      "source": [
        "## Mistakes"
      ],
      "metadata": {
        "id": "TDo7rpFYc587"
      }
    },
    {
      "cell_type": "markdown",
      "source": [],
      "metadata": {
        "id": "zp_tg8h7f--3"
      }
    },
    {
      "cell_type": "code",
      "source": [
        "# breaking the rule of matrix multiplication\n",
        "# solution is to transpose the matrix\n",
        "print(\"Transpose of the tensor 1 : \\n\",tensor_1.T)\n",
        "print(\"Transpose of the tensor 2 : \\n\",tensor_2.T)"
      ],
      "metadata": {
        "colab": {
          "base_uri": "https://localhost:8080/"
        },
        "id": "_QYBSwIvc8fY",
        "outputId": "b3974a79-944b-46c1-f5d3-32d91c00c555"
      },
      "execution_count": 16,
      "outputs": [
        {
          "output_type": "stream",
          "name": "stdout",
          "text": [
            "Transpose of the tensor 1 : \n",
            " tensor([[0.8680, 0.4549, 0.4681],\n",
            "        [0.3678, 0.9076, 0.9495]])\n",
            "Transpose of the tensor 2 : \n",
            " tensor([[0.4133, 0.6083],\n",
            "        [0.8495, 0.5633],\n",
            "        [0.7520, 0.9606]])\n"
          ]
        }
      ]
    },
    {
      "cell_type": "markdown",
      "source": [
        "## Aggregation functions"
      ],
      "metadata": {
        "id": "l_ic1MhGgAIO"
      }
    },
    {
      "cell_type": "code",
      "source": [
        "# min\n",
        "print(\"Minimum  : \",tensor_1.min())\n",
        "\n",
        "# max\n",
        "print(\"Maximum : \",tensor_2.max())\n",
        "\n",
        "# mean - it won't work without the float datatype\n",
        "print(\"Mean : \",tensor_2.mean())\n",
        "\n",
        "# sum\n",
        "print(\"Sum : \",tensor_2.sum())"
      ],
      "metadata": {
        "colab": {
          "base_uri": "https://localhost:8080/"
        },
        "id": "XM0XJVoBgCYA",
        "outputId": "ccbd922d-8ead-4386-d5a2-23813b8af1a9"
      },
      "execution_count": 17,
      "outputs": [
        {
          "output_type": "stream",
          "name": "stdout",
          "text": [
            "Minimum  :  tensor(0.3678)\n",
            "Maximum :  tensor(0.9606)\n",
            "Mean :  tensor(0.6912)\n",
            "Sum :  tensor(4.1470)\n"
          ]
        }
      ]
    },
    {
      "cell_type": "code",
      "source": [
        "sample_tensor = torch.arange(start = 0 , end = 10,step = 2)\n",
        "print(sample_tensor)\n",
        "# argmax() - to return the position of maximum value\n",
        "print(\"The maximum position : \",sample_tensor.argmax())\n",
        "print(\"To remove the tensor() : \",sample_tensor.argmax().item())\n",
        "# argmin() - to return the minimum value's position\n",
        "print(\"The minimum position : \",sample_tensor.argmin())"
      ],
      "metadata": {
        "colab": {
          "base_uri": "https://localhost:8080/"
        },
        "id": "dDz6D63vsDQO",
        "outputId": "8771466d-3665-4377-975a-f60380f5b074"
      },
      "execution_count": 18,
      "outputs": [
        {
          "output_type": "stream",
          "name": "stdout",
          "text": [
            "tensor([0, 2, 4, 6, 8])\n",
            "The maximum position :  tensor(4)\n",
            "To remove the tensor() :  4\n",
            "The minimum position :  tensor(0)\n"
          ]
        }
      ]
    },
    {
      "cell_type": "markdown",
      "source": [
        "## Changing the data type"
      ],
      "metadata": {
        "id": "BaLrQ24gtBDH"
      }
    },
    {
      "cell_type": "code",
      "source": [
        "float_tensor = torch.arange(start = 0,end = 100,step = 10,dtype=torch.float64)\n",
        "print(\"The float data type of tensor : \",float_tensor.dtype)\n",
        "\n",
        "int_tensor = float_tensor.type(torch.int8)\n",
        "print(\"The int data type of tensor : \",int_tensor)"
      ],
      "metadata": {
        "colab": {
          "base_uri": "https://localhost:8080/"
        },
        "id": "mYP00a8IsoYa",
        "outputId": "e5ace14f-c2c7-423e-ce3e-090a1012cd9b"
      },
      "execution_count": 19,
      "outputs": [
        {
          "output_type": "stream",
          "name": "stdout",
          "text": [
            "The float data type of tensor :  torch.float64\n",
            "The int data type of tensor :  tensor([ 0, 10, 20, 30, 40, 50, 60, 70, 80, 90], dtype=torch.int8)\n"
          ]
        }
      ]
    },
    {
      "cell_type": "markdown",
      "source": [
        "## Reshape , Squeeze , Unsqueeze , Stacking"
      ],
      "metadata": {
        "id": "zVcW3TE2uk7Y"
      }
    },
    {
      "cell_type": "code",
      "source": [
        "tensor = torch.arange(1.,11.)\n",
        "print(\"The tensor : \\n\",tensor)\n",
        "print(\"The shape of the tensor :\\n\",tensor.shape)\n",
        "\n",
        "# Adding a new dimension by reshaping\n",
        "print(\"\\nThe added dimension : \\n\",tensor.reshape(1,10))\n",
        "\n",
        "# view\n",
        "print(\"\\nThe view of tensor : \\n\",tensor.view(2,5))\n",
        "# if a value is changed in view then the value in the tensor also changed\n",
        "\n",
        "# stack\n",
        "# dim = 0 for stacking vertically\n",
        "#   tensor 1\n",
        "#   tensor 2\n",
        "#   tensor 3\n",
        "# dim = 1 for stacking horizontally\n",
        "#   tensor 1 tensor 2 tensor 3\n",
        "print(\"\\nThe stack of vertical tensor : \\n\",torch.stack([tensor,tensor,tensor],dim=0))\n",
        "print(\"The stack of horizontal tensor : \\n\",torch.stack([tensor,tensor,tensor],dim=1))\n",
        "\n",
        "# squeezing\n",
        "reshaped_tensor = tensor.reshape(1,10)\n",
        "print(\"\\nReshaped Tensor : \",reshaped_tensor.shape)\n",
        "squeezed_tensor = tensor.squeeze()\n",
        "print(\"Squeezed tensor : \",squeezed_tensor.shape)\n",
        "unsqueezed_tensor = tensor.unsqueeze(dim=0)\n",
        "print(\"Unsqueezed tensor : \",unsqueezed_tensor.shape)\n",
        "\n",
        "# permutation\n",
        "unpermutated = torch.rand(size = (3,244,244))\n",
        "# 2 is 244 , 0 is 3 and 1 is 224\n",
        "permutated = unpermutated.permute(2,0,1)\n",
        "print(\"\\nUnpermutated : \",unpermutated.shape)\n",
        "print(\"Permutated : \",permutated.shape)"
      ],
      "metadata": {
        "colab": {
          "base_uri": "https://localhost:8080/"
        },
        "id": "oWf37uWTuqwL",
        "outputId": "5a29bef2-ff4b-41d1-8014-283ddcd1406b"
      },
      "execution_count": 20,
      "outputs": [
        {
          "output_type": "stream",
          "name": "stdout",
          "text": [
            "The tensor : \n",
            " tensor([ 1.,  2.,  3.,  4.,  5.,  6.,  7.,  8.,  9., 10.])\n",
            "The shape of the tensor :\n",
            " torch.Size([10])\n",
            "\n",
            "The added dimension : \n",
            " tensor([[ 1.,  2.,  3.,  4.,  5.,  6.,  7.,  8.,  9., 10.]])\n",
            "\n",
            "The view of tensor : \n",
            " tensor([[ 1.,  2.,  3.,  4.,  5.],\n",
            "        [ 6.,  7.,  8.,  9., 10.]])\n",
            "\n",
            "The stack of vertical tensor : \n",
            " tensor([[ 1.,  2.,  3.,  4.,  5.,  6.,  7.,  8.,  9., 10.],\n",
            "        [ 1.,  2.,  3.,  4.,  5.,  6.,  7.,  8.,  9., 10.],\n",
            "        [ 1.,  2.,  3.,  4.,  5.,  6.,  7.,  8.,  9., 10.]])\n",
            "The stack of horizontal tensor : \n",
            " tensor([[ 1.,  1.,  1.],\n",
            "        [ 2.,  2.,  2.],\n",
            "        [ 3.,  3.,  3.],\n",
            "        [ 4.,  4.,  4.],\n",
            "        [ 5.,  5.,  5.],\n",
            "        [ 6.,  6.,  6.],\n",
            "        [ 7.,  7.,  7.],\n",
            "        [ 8.,  8.,  8.],\n",
            "        [ 9.,  9.,  9.],\n",
            "        [10., 10., 10.]])\n",
            "\n",
            "Reshaped Tensor :  torch.Size([1, 10])\n",
            "Squeezed tensor :  torch.Size([10])\n",
            "Unsqueezed tensor :  torch.Size([1, 10])\n",
            "\n",
            "Unpermutated :  torch.Size([3, 244, 244])\n",
            "Permutated :  torch.Size([244, 3, 244])\n"
          ]
        }
      ]
    },
    {
      "cell_type": "markdown",
      "source": [
        "## Indexing"
      ],
      "metadata": {
        "id": "5T9VO8zPypGt"
      }
    },
    {
      "cell_type": "code",
      "source": [
        "tensor = torch.arange(1,10).reshape(1,3,3)\n",
        "print(tensor,tensor.shape)\n",
        "\n",
        "print(\"Part 1 :\\n\",tensor[0])\n",
        "print(\"Part 2 :\\n\",tensor[0][0])\n",
        "print(\"Part 3 :\\n\",tensor[0][0][0])"
      ],
      "metadata": {
        "colab": {
          "base_uri": "https://localhost:8080/"
        },
        "id": "54guohjlyqUr",
        "outputId": "ee2c483e-bf31-4a5d-f3df-35ce7998ab5d"
      },
      "execution_count": 21,
      "outputs": [
        {
          "output_type": "stream",
          "name": "stdout",
          "text": [
            "tensor([[[1, 2, 3],\n",
            "         [4, 5, 6],\n",
            "         [7, 8, 9]]]) torch.Size([1, 3, 3])\n",
            "Part 1 :\n",
            " tensor([[1, 2, 3],\n",
            "        [4, 5, 6],\n",
            "        [7, 8, 9]])\n",
            "Part 2 :\n",
            " tensor([1, 2, 3])\n",
            "Part 3 :\n",
            " tensor(1)\n"
          ]
        }
      ]
    },
    {
      "cell_type": "markdown",
      "source": [
        "## Numpy and Tensor"
      ],
      "metadata": {
        "id": "p1xB1KyH29Jf"
      }
    },
    {
      "cell_type": "code",
      "source": [
        "from numpy import arange\n",
        "\n",
        "# from numpy to array\n",
        "array = arange(1.,10.)\n",
        "print(array)\n",
        "tensor = torch.from_numpy(array)\n",
        "print(tensor)\n",
        "\n",
        "# from tensor to numpy\n",
        "numpy_array = tensor.numpy()\n",
        "print(numpy_array,numpy_array.dtype)"
      ],
      "metadata": {
        "colab": {
          "base_uri": "https://localhost:8080/"
        },
        "id": "2UnhxjHq2_pW",
        "outputId": "03d5df8a-6ac4-40e6-869a-78d112af0103"
      },
      "execution_count": 22,
      "outputs": [
        {
          "output_type": "stream",
          "name": "stdout",
          "text": [
            "[1. 2. 3. 4. 5. 6. 7. 8. 9.]\n",
            "tensor([1., 2., 3., 4., 5., 6., 7., 8., 9.], dtype=torch.float64)\n",
            "[1. 2. 3. 4. 5. 6. 7. 8. 9.] float64\n"
          ]
        }
      ]
    },
    {
      "cell_type": "markdown",
      "source": [
        "## Random Seed"
      ],
      "metadata": {
        "id": "lVyxhSWW62SM"
      }
    },
    {
      "cell_type": "code",
      "source": [
        "random_seeds = 42\n",
        "torch.manual_seed(seed = random_seeds)\n",
        "tensor1 = torch.rand(3,3)\n",
        "\n",
        "# resetting the seed for randomness\n",
        "torch.random.manual_seed(seed = random_seeds)\n",
        "tensor2 = torch.rand(3,3)\n",
        "\n",
        "tensor1 == tensor2"
      ],
      "metadata": {
        "colab": {
          "base_uri": "https://localhost:8080/"
        },
        "id": "kU1zfiQ863om",
        "outputId": "8c00a94c-d950-4903-cacb-e5581a1fb765"
      },
      "execution_count": 23,
      "outputs": [
        {
          "output_type": "execute_result",
          "data": {
            "text/plain": [
              "tensor([[True, True, True],\n",
              "        [True, True, True],\n",
              "        [True, True, True]])"
            ]
          },
          "metadata": {},
          "execution_count": 23
        }
      ]
    },
    {
      "cell_type": "markdown",
      "source": [
        "## GPU"
      ],
      "metadata": {
        "id": "DF04gteU9P1j"
      }
    },
    {
      "cell_type": "code",
      "source": [
        "# check for gpu\n",
        "torch.cuda.is_available()"
      ],
      "metadata": {
        "colab": {
          "base_uri": "https://localhost:8080/"
        },
        "id": "kuUYmEgi9Rax",
        "outputId": "2b7536c3-b69e-4e39-eced-52189869c63f"
      },
      "execution_count": 24,
      "outputs": [
        {
          "output_type": "execute_result",
          "data": {
            "text/plain": [
              "True"
            ]
          },
          "metadata": {},
          "execution_count": 24
        }
      ]
    },
    {
      "cell_type": "code",
      "source": [
        "# setting the device type\n",
        "device = \"cuda\" if torch.cuda.is_available() else \"cpu\"\n",
        "device"
      ],
      "metadata": {
        "colab": {
          "base_uri": "https://localhost:8080/",
          "height": 36
        },
        "id": "OrKwTrpGASud",
        "outputId": "ce6dcfd7-3fd0-4c5c-d6b1-51e3218f37cc"
      },
      "execution_count": 25,
      "outputs": [
        {
          "output_type": "execute_result",
          "data": {
            "text/plain": [
              "'cuda'"
            ],
            "application/vnd.google.colaboratory.intrinsic+json": {
              "type": "string"
            }
          },
          "metadata": {},
          "execution_count": 25
        }
      ]
    },
    {
      "cell_type": "code",
      "source": [
        "# number of device pytorch uses\n",
        "torch.cuda.device_count()"
      ],
      "metadata": {
        "colab": {
          "base_uri": "https://localhost:8080/"
        },
        "id": "_yY_wDxoAdxl",
        "outputId": "ef5c0ce8-254b-489d-c07e-5bd96d375b22"
      },
      "execution_count": 26,
      "outputs": [
        {
          "output_type": "execute_result",
          "data": {
            "text/plain": [
              "1"
            ]
          },
          "metadata": {},
          "execution_count": 26
        }
      ]
    },
    {
      "cell_type": "code",
      "source": [
        "# tensor to gpu\n",
        "print(tensor,tensor.device)\n",
        "tensor_gpu = tensor.to(device)\n",
        "print(tensor_gpu.device)\n",
        "\n",
        "# if tensor is on gpu then it can't be converted to numpy\n",
        "tensor_cpu = tensor_gpu.cpu()\n",
        "print(tensor_cpu.device)\n"
      ],
      "metadata": {
        "colab": {
          "base_uri": "https://localhost:8080/"
        },
        "id": "_Rsxh5XHAohz",
        "outputId": "bacd263a-8bc5-4138-b409-f2879bb69d7f"
      },
      "execution_count": 27,
      "outputs": [
        {
          "output_type": "stream",
          "name": "stdout",
          "text": [
            "tensor([1., 2., 3., 4., 5., 6., 7., 8., 9.], dtype=torch.float64) cpu\n",
            "cuda:0\n",
            "cpu\n"
          ]
        }
      ]
    },
    {
      "cell_type": "markdown",
      "source": [
        "## Exercise"
      ],
      "metadata": {
        "id": "FR_s_eMpBYUD"
      }
    },
    {
      "cell_type": "code",
      "source": [
        "# 2\n",
        "random_tensor = torch.rand(size=(7,7))\n",
        "print(random_tensor,random_tensor.shape,random_tensor.dtype)"
      ],
      "metadata": {
        "colab": {
          "base_uri": "https://localhost:8080/"
        },
        "id": "HEfzNytfBaAu",
        "outputId": "31674d7f-5262-4802-a845-6711e741f206"
      },
      "execution_count": 28,
      "outputs": [
        {
          "output_type": "stream",
          "name": "stdout",
          "text": [
            "tensor([[0.1332, 0.9346, 0.5936, 0.8694, 0.5677, 0.7411, 0.4294],\n",
            "        [0.8854, 0.5739, 0.2666, 0.6274, 0.2696, 0.4414, 0.2969],\n",
            "        [0.8317, 0.1053, 0.2695, 0.3588, 0.1994, 0.5472, 0.0062],\n",
            "        [0.9516, 0.0753, 0.8860, 0.5832, 0.3376, 0.8090, 0.5779],\n",
            "        [0.9040, 0.5547, 0.3423, 0.6343, 0.3644, 0.7104, 0.9464],\n",
            "        [0.7890, 0.2814, 0.7886, 0.5895, 0.7539, 0.1952, 0.0050],\n",
            "        [0.3068, 0.1165, 0.9103, 0.6440, 0.7071, 0.6581, 0.4913]]) torch.Size([7, 7]) torch.float32\n"
          ]
        }
      ]
    },
    {
      "cell_type": "code",
      "source": [
        "# 3 matrix multiplication\n",
        "random_tensor2 = torch.rand(size=(1,7))\n",
        "print(random_tensor2)\n",
        "\n",
        "print(\"Matrix multiplication : \\n\",torch.matmul(random_tensor,random_tensor2.T))"
      ],
      "metadata": {
        "colab": {
          "base_uri": "https://localhost:8080/"
        },
        "id": "rgK800YABoUr",
        "outputId": "1e4e4db2-a900-4407-8e09-fe4a9884554b"
      },
      "execution_count": 29,
      "outputs": [
        {
          "output_type": "stream",
          "name": "stdout",
          "text": [
            "tensor([[0.8913, 0.1447, 0.5315, 0.1587, 0.6542, 0.3278, 0.6532]])\n",
            "Matrix multiplication : \n",
            " tensor([[1.6023],\n",
            "        [1.6286],\n",
            "        [1.2705],\n",
            "        [2.2861],\n",
            "        [2.2581],\n",
            "        [1.8172],\n",
            "        [1.8756]])\n"
          ]
        }
      ]
    },
    {
      "cell_type": "code",
      "source": [
        "# 4\n",
        "random_seed = 0\n",
        "torch.manual_seed(seed = random_seed)\n",
        "random_tensor = torch.rand(size=(7,7))\n",
        "print(random_tensor)\n",
        "torch.random.manual_seed(seed = random_seed)\n",
        "random_tensor2 = torch.rand(size=(1,7))\n",
        "print(random_tensor2)\n",
        "\n",
        "print(\"Matrix multiplication : \\n\",torch.matmul(random_tensor,random_tensor2.T))"
      ],
      "metadata": {
        "colab": {
          "base_uri": "https://localhost:8080/"
        },
        "id": "GZ-Kh9gPChx-",
        "outputId": "db0e5e2d-0e32-4a10-e3ab-4d538507b201"
      },
      "execution_count": 30,
      "outputs": [
        {
          "output_type": "stream",
          "name": "stdout",
          "text": [
            "tensor([[0.4963, 0.7682, 0.0885, 0.1320, 0.3074, 0.6341, 0.4901],\n",
            "        [0.8964, 0.4556, 0.6323, 0.3489, 0.4017, 0.0223, 0.1689],\n",
            "        [0.2939, 0.5185, 0.6977, 0.8000, 0.1610, 0.2823, 0.6816],\n",
            "        [0.9152, 0.3971, 0.8742, 0.4194, 0.5529, 0.9527, 0.0362],\n",
            "        [0.1852, 0.3734, 0.3051, 0.9320, 0.1759, 0.2698, 0.1507],\n",
            "        [0.0317, 0.2081, 0.9298, 0.7231, 0.7423, 0.5263, 0.2437],\n",
            "        [0.5846, 0.0332, 0.1387, 0.2422, 0.8155, 0.7932, 0.2783]])\n",
            "tensor([[0.4963, 0.7682, 0.0885, 0.1320, 0.3074, 0.6341, 0.4901]])\n",
            "Matrix multiplication : \n",
            " tensor([[1.5985],\n",
            "        [1.1173],\n",
            "        [1.2741],\n",
            "        [1.6838],\n",
            "        [0.8279],\n",
            "        [1.0347],\n",
            "        [1.2498]])\n"
          ]
        }
      ]
    },
    {
      "cell_type": "code",
      "source": [
        "# 5\n",
        "random_seed = 1234\n",
        "torch.cuda.manual_seed(random_seed)"
      ],
      "metadata": {
        "id": "Fe0wM5ApDOiT"
      },
      "execution_count": 48,
      "outputs": []
    },
    {
      "cell_type": "code",
      "source": [
        "# 6\n",
        "torch.manual_seed(random_seed)\n",
        "tensor1_cpu = torch.rand(2,3)\n",
        "tensor2_cpu = torch.rand(2,3)\n",
        "# to gpu\n",
        "tensor1_gpu = tensor1_cpu.to(device)\n",
        "tensor2_gpu = tensor2_cpu.to(device)"
      ],
      "metadata": {
        "id": "VQhsjEEvE_4T"
      },
      "execution_count": 32,
      "outputs": []
    },
    {
      "cell_type": "code",
      "source": [
        "# 7\n",
        "tensor_mm = torch.matmul(tensor1_gpu,tensor2_gpu.T)"
      ],
      "metadata": {
        "id": "tZLXE2UIFgQF"
      },
      "execution_count": 33,
      "outputs": []
    },
    {
      "cell_type": "code",
      "source": [
        "# 8\n",
        "print(\"Maximum : \",tensor_mm.max())\n",
        "print(\"Minimum : \",tensor_mm.min())"
      ],
      "metadata": {
        "colab": {
          "base_uri": "https://localhost:8080/"
        },
        "id": "cbo5sKl8FoaW",
        "outputId": "f98b7e33-46bf-4203-c3c8-e72d55266a8d"
      },
      "execution_count": 34,
      "outputs": [
        {
          "output_type": "stream",
          "name": "stdout",
          "text": [
            "Maximum :  tensor(0.5617, device='cuda:0')\n",
            "Minimum :  tensor(0.3647, device='cuda:0')\n"
          ]
        }
      ]
    },
    {
      "cell_type": "code",
      "source": [
        "# 9\n",
        "print(\"Max position : \",tensor_mm.argmax())\n",
        "print(\"Min position : \",tensor_mm.argmin())"
      ],
      "metadata": {
        "colab": {
          "base_uri": "https://localhost:8080/"
        },
        "id": "Je0B848LLc0y",
        "outputId": "fe0cc7a8-b85a-497c-eb5f-bd705efc52be"
      },
      "execution_count": 35,
      "outputs": [
        {
          "output_type": "stream",
          "name": "stdout",
          "text": [
            "Max position :  tensor(3, device='cuda:0')\n",
            "Min position :  tensor(0, device='cuda:0')\n"
          ]
        }
      ]
    },
    {
      "cell_type": "code",
      "source": [
        "# 10\n",
        "random_seed = 7\n",
        "torch.manual_seed(random_seed)\n",
        "rand_tensor = torch.rand(size=(1,1,1,10))\n",
        "rand_tensor2 = rand_tensor.squeeze()\n",
        "rand_tensor,rand_tensor.shape,rand_tensor2,rand_tensor2.shape"
      ],
      "metadata": {
        "colab": {
          "base_uri": "https://localhost:8080/"
        },
        "id": "R4CHDaG_Ls4r",
        "outputId": "f61d8c98-0703-43f8-ba8c-edb47bb04360"
      },
      "execution_count": 49,
      "outputs": [
        {
          "output_type": "execute_result",
          "data": {
            "text/plain": [
              "(tensor([[[[0.5349, 0.1988, 0.6592, 0.6569, 0.2328, 0.4251, 0.2071, 0.6297,\n",
              "            0.3653, 0.8513]]]]),\n",
              " torch.Size([1, 1, 1, 10]),\n",
              " tensor([0.5349, 0.1988, 0.6592, 0.6569, 0.2328, 0.4251, 0.2071, 0.6297, 0.3653,\n",
              "         0.8513]),\n",
              " torch.Size([10]))"
            ]
          },
          "metadata": {},
          "execution_count": 49
        }
      ]
    }
  ]
}