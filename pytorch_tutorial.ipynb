{
  "nbformat": 4,
  "nbformat_minor": 0,
  "metadata": {
    "colab": {
      "provenance": [],
      "toc_visible": true,
      "authorship_tag": "ABX9TyMjqodyWNbZDuYvZrgfDFLt",
      "include_colab_link": true
    },
    "kernelspec": {
      "name": "python3",
      "display_name": "Python 3"
    },
    "language_info": {
      "name": "python"
    }
  },
  "cells": [
    {
      "cell_type": "markdown",
      "metadata": {
        "id": "view-in-github",
        "colab_type": "text"
      },
      "source": [
        "<a href=\"https://colab.research.google.com/github/JaiSuryaPrabu/deep_learning/blob/main/pytorch_tutorial.ipynb\" target=\"_parent\"><img src=\"https://colab.research.google.com/assets/colab-badge.svg\" alt=\"Open In Colab\"/></a>"
      ]
    },
    {
      "cell_type": "markdown",
      "source": [
        "# Pytorch \n",
        "## Link\n",
        "https://www.learnpytorch.io/"
      ],
      "metadata": {
        "id": "Ogd4PyfcAF5K"
      }
    },
    {
      "cell_type": "markdown",
      "source": [
        "# 1. Pytorch fundamentals"
      ],
      "metadata": {
        "id": "Cy5z6O7oAOh0"
      }
    },
    {
      "cell_type": "code",
      "execution_count": null,
      "metadata": {
        "id": "TJKgcL82AAFm",
        "colab": {
          "base_uri": "https://localhost:8080/",
          "height": 36
        },
        "outputId": "96711361-248d-4f56-8224-f121d765e37b"
      },
      "outputs": [
        {
          "output_type": "execute_result",
          "data": {
            "text/plain": [
              "'2.0.1+cu118'"
            ],
            "application/vnd.google.colaboratory.intrinsic+json": {
              "type": "string"
            }
          },
          "metadata": {},
          "execution_count": 2
        }
      ],
      "source": [
        "# importing torch and checking its version\n",
        "import torch\n",
        "torch.__version__"
      ]
    },
    {
      "cell_type": "markdown",
      "source": [
        "## Tensor"
      ],
      "metadata": {
        "id": "aEduDH0TNBU4"
      }
    },
    {
      "cell_type": "code",
      "source": [
        "# 0 dimensinal tensor - Scalar\n",
        "scalar = torch.tensor(10)\n",
        "print(scalar)\n",
        "\n",
        "# dimensions\n",
        "print(\"The number of dimensions in the scalar : \",scalar.ndim)\n",
        "\n",
        "# from tensor.Torch to int data type\n",
        "# item() is only for scalar\n",
        "print(scalar.item())"
      ],
      "metadata": {
        "colab": {
          "base_uri": "https://localhost:8080/"
        },
        "id": "pt9oiEw9MJy4",
        "outputId": "7150f325-df3b-4014-f83d-50eace60c9da"
      },
      "execution_count": null,
      "outputs": [
        {
          "output_type": "stream",
          "name": "stdout",
          "text": [
            "tensor(10)\n",
            "The number of dimensions in the scalar :  0\n",
            "10\n"
          ]
        }
      ]
    },
    {
      "cell_type": "code",
      "source": [
        "# 1D tensor - vector\n",
        "vector = torch.tensor([10,10])\n",
        "print(vector)\n",
        "\n",
        "# dimensions\n",
        "print(\"The number of dimensions in the vector : \",vector.ndim)\n",
        "\n",
        "# shape\n",
        "print(\"The shape of the vector : \",vector.shape)"
      ],
      "metadata": {
        "colab": {
          "base_uri": "https://localhost:8080/"
        },
        "id": "yWEyV8TNNPeA",
        "outputId": "d2863020-764b-4fd6-bc02-f37a0c0dceba"
      },
      "execution_count": null,
      "outputs": [
        {
          "output_type": "stream",
          "name": "stdout",
          "text": [
            "tensor([10, 10])\n",
            "The number of dimensions in the vector :  1\n",
            "The shape of the vector :  torch.Size([2])\n"
          ]
        }
      ]
    },
    {
      "cell_type": "code",
      "source": [
        "# Matrix \n",
        "matrix = torch.tensor(\n",
        "    [[1,2,3],\n",
        "    [4,5,6],\n",
        "    [7,8,9]]\n",
        ")\n",
        "print(matrix)\n",
        "\n",
        "# dimensions\n",
        "print(\"The dimensions in the matrix : \",matrix.ndim)\n",
        "\n",
        "# shape \n",
        "print(\"The shape of the matrix : \",matrix.shape)"
      ],
      "metadata": {
        "colab": {
          "base_uri": "https://localhost:8080/"
        },
        "id": "PR2XrovdOyPi",
        "outputId": "354ca4ff-5546-467b-a836-a9877d0d6422"
      },
      "execution_count": null,
      "outputs": [
        {
          "output_type": "stream",
          "name": "stdout",
          "text": [
            "tensor([[1, 2, 3],\n",
            "        [4, 5, 6],\n",
            "        [7, 8, 9]])\n",
            "The dimensions in the matrix :  2\n",
            "The shape of the matrix :  torch.Size([3, 3])\n"
          ]
        }
      ]
    },
    {
      "cell_type": "code",
      "source": [
        "# Tensors\n",
        "tensors = torch.tensor(\n",
        "    [[[1,2,3],\n",
        "      [4,5,6],\n",
        "      [7,8,9]]]\n",
        ")\n",
        "\n",
        "print(tensors,tensors.shape,tensors.ndim)"
      ],
      "metadata": {
        "colab": {
          "base_uri": "https://localhost:8080/"
        },
        "id": "Ol4B-42iP-dS",
        "outputId": "1addc9c2-e1c5-46b2-d549-eb45257d6ff6"
      },
      "execution_count": null,
      "outputs": [
        {
          "output_type": "stream",
          "name": "stdout",
          "text": [
            "tensor([[[1, 2, 3],\n",
            "         [4, 5, 6],\n",
            "         [7, 8, 9]]]) torch.Size([1, 3, 3]) 3\n"
          ]
        }
      ]
    },
    {
      "cell_type": "markdown",
      "source": [
        "## Random Tensors"
      ],
      "metadata": {
        "id": "cIsfGcl4Yunk"
      }
    },
    {
      "cell_type": "code",
      "source": [
        "# torch.rand() gives random tensors\n",
        "# arguments : \n",
        "#   size = (rows , columns)\n",
        "\n",
        "random_tensor = torch.rand(size = (3,3))\n",
        "print(random_tensor)\n",
        "\n",
        "# to know about the data type\n",
        "print(random_tensor.dtype)"
      ],
      "metadata": {
        "colab": {
          "base_uri": "https://localhost:8080/"
        },
        "id": "UScBwJ9aYwww",
        "outputId": "2e74bca5-d8ba-4600-a9ca-407afb75b8d4"
      },
      "execution_count": 15,
      "outputs": [
        {
          "output_type": "stream",
          "name": "stdout",
          "text": [
            "tensor([[0.2370, 0.6287, 0.5065],\n",
            "        [0.2682, 0.3741, 0.6927],\n",
            "        [0.7619, 0.2704, 0.7009]])\n",
            "torch.float32\n"
          ]
        }
      ]
    },
    {
      "cell_type": "code",
      "source": [
        "# tensors of zeros\n",
        "zero_tensors = torch.zeros(size = (3,3))\n",
        "print(zero_tensors)"
      ],
      "metadata": {
        "colab": {
          "base_uri": "https://localhost:8080/"
        },
        "id": "77AXFCJZZpX6",
        "outputId": "147d16ce-3e33-49d4-d623-2737932a7632"
      },
      "execution_count": 16,
      "outputs": [
        {
          "output_type": "stream",
          "name": "stdout",
          "text": [
            "tensor([[0., 0., 0.],\n",
            "        [0., 0., 0.],\n",
            "        [0., 0., 0.]])\n"
          ]
        }
      ]
    },
    {
      "cell_type": "code",
      "source": [
        "# tensors of ones\n",
        "one_tensors = torch.ones(size=(3,3))\n",
        "one_tensors"
      ],
      "metadata": {
        "colab": {
          "base_uri": "https://localhost:8080/"
        },
        "id": "p9ebSUOmZ0zs",
        "outputId": "e74d8257-7a18-4013-f327-a200e9b909e2"
      },
      "execution_count": 17,
      "outputs": [
        {
          "output_type": "execute_result",
          "data": {
            "text/plain": [
              "tensor([[1., 1., 1.],\n",
              "        [1., 1., 1.],\n",
              "        [1., 1., 1.]])"
            ]
          },
          "metadata": {},
          "execution_count": 17
        }
      ]
    },
    {
      "cell_type": "markdown",
      "source": [
        "## Range of tensors"
      ],
      "metadata": {
        "id": "o1q_mi-EaE0Z"
      }
    },
    {
      "cell_type": "code",
      "source": [
        "# arange(start , end , step)\n",
        "range_tensor = torch.arange(start=0,end=10,step=1)\n",
        "range_tensor"
      ],
      "metadata": {
        "colab": {
          "base_uri": "https://localhost:8080/"
        },
        "id": "12cICFBpaHRO",
        "outputId": "58e81e2a-8c37-40be-a862-3acf5a1c3b01"
      },
      "execution_count": 19,
      "outputs": [
        {
          "output_type": "execute_result",
          "data": {
            "text/plain": [
              "tensor([0, 1, 2, 3, 4, 5, 6, 7, 8, 9])"
            ]
          },
          "metadata": {},
          "execution_count": 19
        }
      ]
    },
    {
      "cell_type": "code",
      "source": [
        "# copying the shape of another tensor\n",
        "\n",
        "# zeros_like(input)\n",
        "zero_copied = torch.zeros_like(range_tensor)\n",
        "print(zero_copied)\n",
        "\n",
        "# ones_like(input)\n",
        "ones_copied = torch.ones_like(zero_tensors)\n",
        "print(ones_copied)"
      ],
      "metadata": {
        "colab": {
          "base_uri": "https://localhost:8080/"
        },
        "id": "eNxOWXggcBdm",
        "outputId": "ca1fc6b6-41f5-410e-856d-3d5fcf793bb8"
      },
      "execution_count": 20,
      "outputs": [
        {
          "output_type": "stream",
          "name": "stdout",
          "text": [
            "tensor([0, 0, 0, 0, 0, 0, 0, 0, 0, 0])\n",
            "tensor([[1., 1., 1.],\n",
            "        [1., 1., 1.],\n",
            "        [1., 1., 1.]])\n"
          ]
        }
      ]
    },
    {
      "cell_type": "markdown",
      "source": [
        "## Tensor Datatype"
      ],
      "metadata": {
        "id": "TuBrBxUfdQXl"
      }
    },
    {
      "cell_type": "markdown",
      "source": [
        "* Float\n",
        "    * 32 bit\n",
        "    * 64 bit\n",
        "    * 16 bit\n",
        "* Complex\n",
        "    * 32 bit\n",
        "    * 64 bit\n",
        "    * 128 bit\n",
        "* Integer\n",
        "    * 8 bit\n",
        "        * signed\n",
        "        * unsigned\n",
        "    * 16 bit\n",
        "        * signed\n",
        "    * 32 bit\n",
        "        * signed\n",
        "    * 64 bit\n",
        "        * signed\n",
        "    * Quantized\n",
        "        * 4 bit\n",
        "            * unsigned \n",
        "        * 8 bit\n",
        "            * signed\n",
        "            * unsigned\n",
        "        * 32 bit\n",
        "            * signed\n",
        "* Boolean"
      ],
      "metadata": {
        "id": "aMw2H0PQea_n"
      }
    },
    {
      "cell_type": "code",
      "source": [
        "# float default values\n",
        "float_tensor = torch.tensor([0.1,0.2,0.3],\n",
        "                            dtype = None,\n",
        "                            device = None,\n",
        "                            requires_grad = False)\n",
        "\n",
        "float_tensor.dtype,float_tensor.device"
      ],
      "metadata": {
        "colab": {
          "base_uri": "https://localhost:8080/"
        },
        "id": "DUdNmkNPdSni",
        "outputId": "a05f06f1-2106-401c-bed8-1dbf4bdd458c"
      },
      "execution_count": 22,
      "outputs": [
        {
          "output_type": "execute_result",
          "data": {
            "text/plain": [
              "(torch.float32, device(type='cpu'))"
            ]
          },
          "metadata": {},
          "execution_count": 22
        }
      ]
    }
  ]
}