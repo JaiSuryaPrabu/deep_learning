{
  "nbformat": 4,
  "nbformat_minor": 0,
  "metadata": {
    "colab": {
      "provenance": [],
      "toc_visible": true,
      "authorship_tag": "ABX9TyN5Tb9O//n/mzSIODf+oVsj",
      "include_colab_link": true
    },
    "kernelspec": {
      "name": "python3",
      "display_name": "Python 3"
    },
    "language_info": {
      "name": "python"
    }
  },
  "cells": [
    {
      "cell_type": "markdown",
      "metadata": {
        "id": "view-in-github",
        "colab_type": "text"
      },
      "source": [
        "<a href=\"https://colab.research.google.com/github/JaiSuryaPrabu/deep_learning/blob/main/pytorch_tutorial.ipynb\" target=\"_parent\"><img src=\"https://colab.research.google.com/assets/colab-badge.svg\" alt=\"Open In Colab\"/></a>"
      ]
    },
    {
      "cell_type": "markdown",
      "source": [
        "# Pytorch \n",
        "## Link\n",
        "https://www.learnpytorch.io/"
      ],
      "metadata": {
        "id": "Ogd4PyfcAF5K"
      }
    },
    {
      "cell_type": "markdown",
      "source": [
        "# 1. Pytorch fundamentals"
      ],
      "metadata": {
        "id": "Cy5z6O7oAOh0"
      }
    },
    {
      "cell_type": "code",
      "execution_count": 2,
      "metadata": {
        "id": "TJKgcL82AAFm",
        "colab": {
          "base_uri": "https://localhost:8080/",
          "height": 36
        },
        "outputId": "96711361-248d-4f56-8224-f121d765e37b"
      },
      "outputs": [
        {
          "output_type": "execute_result",
          "data": {
            "text/plain": [
              "'2.0.1+cu118'"
            ],
            "application/vnd.google.colaboratory.intrinsic+json": {
              "type": "string"
            }
          },
          "metadata": {},
          "execution_count": 2
        }
      ],
      "source": [
        "# importing torch and checking its version\n",
        "import torch\n",
        "torch.__version__"
      ]
    },
    {
      "cell_type": "markdown",
      "source": [
        "## Tensor"
      ],
      "metadata": {
        "id": "aEduDH0TNBU4"
      }
    },
    {
      "cell_type": "code",
      "source": [
        "# 0 dimensinal tensor - Scalar\n",
        "scalar = torch.tensor(10)\n",
        "print(scalar)\n",
        "\n",
        "# dimensions\n",
        "print(\"The number of dimensions in the scalar : \",scalar.ndim)\n",
        "\n",
        "# from tensor.Torch to int data type\n",
        "# item() is only for scalar\n",
        "print(scalar.item())"
      ],
      "metadata": {
        "colab": {
          "base_uri": "https://localhost:8080/"
        },
        "id": "pt9oiEw9MJy4",
        "outputId": "7150f325-df3b-4014-f83d-50eace60c9da"
      },
      "execution_count": 5,
      "outputs": [
        {
          "output_type": "stream",
          "name": "stdout",
          "text": [
            "tensor(10)\n",
            "The number of dimensions in the scalar :  0\n",
            "10\n"
          ]
        }
      ]
    },
    {
      "cell_type": "code",
      "source": [
        "# 1D tensor - vector\n",
        "vector = torch.tensor([10,10])\n",
        "print(vector)\n",
        "\n",
        "# dimensions\n",
        "print(\"The number of dimensions in the vector : \",vector.ndim)\n",
        "\n",
        "# shape\n",
        "print(\"The shape of the vector : \",vector.shape)"
      ],
      "metadata": {
        "colab": {
          "base_uri": "https://localhost:8080/"
        },
        "id": "yWEyV8TNNPeA",
        "outputId": "d2863020-764b-4fd6-bc02-f37a0c0dceba"
      },
      "execution_count": 9,
      "outputs": [
        {
          "output_type": "stream",
          "name": "stdout",
          "text": [
            "tensor([10, 10])\n",
            "The number of dimensions in the vector :  1\n",
            "The shape of the vector :  torch.Size([2])\n"
          ]
        }
      ]
    },
    {
      "cell_type": "code",
      "source": [
        "# Matrix \n",
        "matrix = torch.tensor(\n",
        "    [[1,2,3],\n",
        "    [4,5,6],\n",
        "    [7,8,9]]\n",
        ")\n",
        "print(matrix)\n",
        "\n",
        "# dimensions\n",
        "print(\"The dimensions in the matrix : \",matrix.ndim)\n",
        "\n",
        "# shape \n",
        "print(\"The shape of the matrix : \",matrix.shape)"
      ],
      "metadata": {
        "colab": {
          "base_uri": "https://localhost:8080/"
        },
        "id": "PR2XrovdOyPi",
        "outputId": "354ca4ff-5546-467b-a836-a9877d0d6422"
      },
      "execution_count": 12,
      "outputs": [
        {
          "output_type": "stream",
          "name": "stdout",
          "text": [
            "tensor([[1, 2, 3],\n",
            "        [4, 5, 6],\n",
            "        [7, 8, 9]])\n",
            "The dimensions in the matrix :  2\n",
            "The shape of the matrix :  torch.Size([3, 3])\n"
          ]
        }
      ]
    }
  ]
}