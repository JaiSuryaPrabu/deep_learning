{
  "nbformat": 4,
  "nbformat_minor": 0,
  "metadata": {
    "colab": {
      "provenance": [],
      "authorship_tag": "ABX9TyMT+jlcNJaTKjVwAiY4e1ss",
      "include_colab_link": true
    },
    "kernelspec": {
      "name": "python3",
      "display_name": "Python 3"
    },
    "language_info": {
      "name": "python"
    }
  },
  "cells": [
    {
      "cell_type": "markdown",
      "metadata": {
        "id": "view-in-github",
        "colab_type": "text"
      },
      "source": [
        "<a href=\"https://colab.research.google.com/github/JaiSuryaPrabu/deep_learning/blob/main/1_Workflow.ipynb\" target=\"_parent\"><img src=\"https://colab.research.google.com/assets/colab-badge.svg\" alt=\"Open In Colab\"/></a>"
      ]
    },
    {
      "cell_type": "markdown",
      "source": [
        "# Importing package"
      ],
      "metadata": {
        "id": "Jqvz_HOU8iAd"
      }
    },
    {
      "cell_type": "code",
      "source": [
        "import torch\n",
        "from torch import nn\n",
        "from matplotlib import pyplot as plt\n",
        "\n",
        "torch.__version__"
      ],
      "metadata": {
        "colab": {
          "base_uri": "https://localhost:8080/",
          "height": 36
        },
        "id": "5tdiLAc98lZV",
        "outputId": "f9f85ac1-4534-4cbd-8bea-e79199fda7f9"
      },
      "execution_count": 9,
      "outputs": [
        {
          "output_type": "execute_result",
          "data": {
            "text/plain": [
              "'2.0.1+cu118'"
            ],
            "application/vnd.google.colaboratory.intrinsic+json": {
              "type": "string"
            }
          },
          "metadata": {},
          "execution_count": 9
        }
      ]
    },
    {
      "cell_type": "markdown",
      "source": [
        "# Data "
      ],
      "metadata": {
        "id": "oqs021gg8twp"
      }
    },
    {
      "cell_type": "code",
      "source": [
        "# create a data\n",
        "weights = 0.7\n",
        "bias = 0.3\n",
        "\n",
        "# X is features and y is labels\n",
        "X = torch.arange(start = 0,end = 1, step = 0.01)\n",
        "y = weights * X + bias\n",
        "\n",
        "print(X.shape,y.shape)"
      ],
      "metadata": {
        "id": "VqsGE8ra8v9y",
        "colab": {
          "base_uri": "https://localhost:8080/"
        },
        "outputId": "db15c00f-5ad1-4256-ce53-dccaa787dc33"
      },
      "execution_count": 6,
      "outputs": [
        {
          "output_type": "stream",
          "name": "stdout",
          "text": [
            "torch.Size([100]) torch.Size([100])\n"
          ]
        }
      ]
    },
    {
      "cell_type": "code",
      "source": [
        "# splitting the data\n",
        "training_percent = 0.75\n",
        "# 75 percent is training data and 25 percent is testing data\n",
        "num_of_training = int(training_percent * len(X))\n",
        "print(num_of_training)\n",
        "\n",
        "x_train,x_test = X[:num_of_training],X[num_of_training:]\n",
        "y_train,y_test = y[:num_of_training],y[num_of_training:]\n",
        "\n",
        "x_train.shape,x_test.shape,y_train.shape,y_test.shape"
      ],
      "metadata": {
        "colab": {
          "base_uri": "https://localhost:8080/"
        },
        "id": "aQXwpzK8j0ip",
        "outputId": "6ed7829f-915b-4061-ae4c-5cc4b6f46c94"
      },
      "execution_count": 8,
      "outputs": [
        {
          "output_type": "stream",
          "name": "stdout",
          "text": [
            "75\n"
          ]
        },
        {
          "output_type": "execute_result",
          "data": {
            "text/plain": [
              "(torch.Size([75]), torch.Size([25]), torch.Size([75]), torch.Size([25]))"
            ]
          },
          "metadata": {},
          "execution_count": 8
        }
      ]
    },
    {
      "cell_type": "code",
      "source": [
        "# ploting the data\n",
        "def plot_graph(Xtrain_data=x_train,\n",
        "               Xtest_data=x_test,\n",
        "               Ytrain_data=y_train,\n",
        "               Ytest_data=y_test,\n",
        "               predictions=None):\n",
        "    \n",
        "    plt.figure(figsize=(10,7))\n",
        "\n",
        "    # plotting training data\n",
        "    plt.scatter(Xtrain_data,Ytrain_data,c=\"b\",s=5,label=\"training data\")\n",
        "\n",
        "    # testing data\n",
        "    plt.scatter(Xtest_data,Ytest_data,c=\"r\",s=5,label=\"testing data\")\n",
        "\n",
        "    if predictions is not None:\n",
        "        plt.scatter(Xtest_data,predictions,c='g',s=5,label=\"predictions\")\n",
        "\n",
        "    plt.legend(prop={\"size\":10})\n",
        "\n",
        "plot_graph()"
      ],
      "metadata": {
        "colab": {
          "base_uri": "https://localhost:8080/",
          "height": 599
        },
        "id": "Bg4efwOBlCuD",
        "outputId": "5b479c34-b9cf-4c92-e3db-88e4ee2d9001"
      },
      "execution_count": 12,
      "outputs": [
        {
          "output_type": "display_data",
          "data": {
            "text/plain": [
              "<Figure size 1000x700 with 1 Axes>"
            ],
            "image/png": "[encoded data removed]"
          },
          "metadata": {}
        }
      ]
    },
    {
      "cell_type": "markdown",
      "source": [
        "# Build model\n"
      ],
      "metadata": {
        "id": "3kvoIFYvnD65"
      }
    },
    {
      "cell_type": "code",
      "source": [
        "# building a linear regression in pytorch\n",
        "\n",
        "class LinearRegression(nn.Module):\n",
        "\n",
        "    def __init__(self):\n",
        "        super().__init__()\n",
        "\n",
        "        self.weights = nn.Parameter(torch.randn(1,dtype=torch.float,requires_grad=True))\n",
        "        self.bias = nn.Parameter(torch.randn(1,dtype=torch.float,requires_grad=True))\n",
        "\n",
        "    def forward(self,input):\n",
        "        output = self.weights * input + self.bias\n",
        "        return output"
      ],
      "metadata": {
        "id": "4RoNU8B3nLw9"
      },
      "execution_count": 23,
      "outputs": []
    },
    {
      "cell_type": "code",
      "source": [
        "torch.manual_seed(42)\n",
        "model = LinearRegression()\n",
        "\n",
        "# to see the values of parameter such as weighs and bias\n",
        "print(model.weights.data)\n",
        "print(model.bias.data)\n",
        "\n",
        "print(model.parameters())\n",
        "print(model.state_dict())"
      ],
      "metadata": {
        "colab": {
          "base_uri": "https://localhost:8080/"
        },
        "id": "8tOfCYhtoRmk",
        "outputId": "73b99477-421e-4603-d829-8173a2e42109"
      },
      "execution_count": 24,
      "outputs": [
        {
          "output_type": "stream",
          "name": "stdout",
          "text": [
            "tensor([0.3367])\n",
            "tensor([0.1288])\n",
            "<generator object Module.parameters at 0x7f2a6c2d7df0>\n",
            "OrderedDict([('weights', tensor([0.3367])), ('bias', tensor([0.1288]))])\n"
          ]
        }
      ]
    },
    {
      "cell_type": "code",
      "source": [
        "# try to use parameters() and the state_dict()\n",
        "\n",
        "# predicting the test data without optimization\n",
        "\n",
        "with torch.inference_mode():\n",
        "    y_preds = model(x_test)\n",
        "\n",
        "    plot_graph(predictions=y_preds)"
      ],
      "metadata": {
        "colab": {
          "base_uri": "https://localhost:8080/",
          "height": 599
        },
        "id": "ui0FIzyIpiqV",
        "outputId": "954b14a8-37a8-4bd8-b3a9-c954cd3e59b2"
      },
      "execution_count": 21,
      "outputs": [
        {
          "output_type": "display_data",
          "data": {
            "text/plain": [
              "<Figure size 1000x700 with 1 Axes>"
            ],
            "image/png": "[encoded data removed]"
          },
          "metadata": {}
        }
      ]
    },
    {
      "cell_type": "markdown",
      "source": [
        "# Train model"
      ],
      "metadata": {
        "id": "kCtiZ-GxqyCw"
      }
    },
    {
      "cell_type": "markdown",
      "source": [
        "* Loss functions \n",
        "    * Regression - Mean Absolute Error - `torch.nn.L1Loss()`\n",
        "    * Classification - Binary Cross Entropy - `torch.nn.BCELoss()`\n",
        "* Optimizer\n",
        "    * Stochastic gradient descent - `torch.optim.SGD()`\n",
        "    * Adam - `torch.optim.Adam()`"
      ],
      "metadata": {
        "id": "Y85kiTDLrHZ-"
      }
    },
    {
      "cell_type": "code",
      "source": [
        "# creating a loss function and optimizer\n",
        "\n",
        "loss = torch.nn.L1Loss()\n",
        "\n",
        "optimizer = torch.optim.SGD(params=model.parameters(),lr=0.01)"
      ],
      "metadata": {
        "id": "B3LNDGGBqzSp"
      },
      "execution_count": 25,
      "outputs": []
    },
    {
      "cell_type": "markdown",
      "source": [
        "## Training Loop"
      ],
      "metadata": {
        "id": "Q2ZNz36Nt20k"
      }
    },
    {
      "cell_type": "markdown",
      "source": [
        "1. Forward pass\n",
        "    * `model(x_train)`\n",
        "2. Calculate the loss\n",
        "    * `loss = loss(y_pred,y_train)`\n",
        "3. Zero gradients\n",
        "    * Each training steps needs 0 gradient values so it needs to be refreshed\n",
        "    *   `optimizer.zero_grad()`\n",
        "4. Perform backpropagation on loss\n",
        "    * `loss.backward()`\n",
        "5. Update the optimizer \n",
        "    * `optimizer.step()`"
      ],
      "metadata": {
        "id": "mGBIJzvbt6ip"
      }
    },
    {
      "cell_type": "markdown",
      "source": [
        "## Testing loop"
      ],
      "metadata": {
        "id": "wR7swNGMvIaE"
      }
    },
    {
      "cell_type": "markdown",
      "source": [
        "1. Forward pass\n",
        "2. Calculate loss\n",
        "3. Calculate evaluation metrics (optional)"
      ],
      "metadata": {
        "id": "F-6mcnUtww-a"
      }
    },
    {
      "cell_type": "code",
      "source": [
        "# training the model\n",
        "\n",
        "epochs = 150\n",
        "\n",
        "epoch_count = []\n",
        "train_loss_values = []\n",
        "test_loss_values = []\n",
        "\n",
        "for epoch in range(epochs):\n",
        "\n",
        "    # training phase\n",
        "\n",
        "    # training mode\n",
        "    model.train()\n",
        "\n",
        "    # 1. Forward pass\n",
        "    predicted = model(x_train)\n",
        "\n",
        "    # 2. Calculate the loss\n",
        "    loss_value = loss(predicted,y_train)\n",
        "\n",
        "    # 3. Zero gradients\n",
        "    optimizer.zero_grad()\n",
        "\n",
        "    # 4. loss backpropagation\n",
        "    loss_value.backward()\n",
        "\n",
        "    # 5. Updata optimizer\n",
        "    optimizer.step()\n",
        "\n",
        "    # testing phase at every 1/10 of training\n",
        "\n",
        "    if epoch % 10 == 0:\n",
        "        with torch.inference_mode():\n",
        "            test_pred = model(x_test)\n",
        "            test_loss = loss(test_pred,y_test.type(torch.float))\n",
        "            epoch_count.append(epoch)\n",
        "            train_loss_values.append(loss_value.detach().numpy())\n",
        "            test_loss_values.append(test_loss.detach().numpy())\n",
        "            print(f\"Epoch {epoch} Training Loss {loss_value} Testing loss {test_loss}\")"
      ],
      "metadata": {
        "colab": {
          "base_uri": "https://localhost:8080/"
        },
        "id": "_yPNpXdKt57J",
        "outputId": "0214cec8-face-4054-9b0a-59d4c08e3af6"
      },
      "execution_count": 29,
      "outputs": [
        {
          "output_type": "stream",
          "name": "stdout",
          "text": [
            "Epoch 0 Training Loss 0.2942461669445038 Testing loss 0.46083199977874756\n",
            "Epoch 10 Training Loss 0.18055614829063416 Testing loss 0.3286420404911041\n",
            "Epoch 20 Training Loss 0.07795001566410065 Testing loss 0.20529867708683014\n",
            "Epoch 30 Training Loss 0.04955681413412094 Testing loss 0.14155007898807526\n",
            "Epoch 40 Training Loss 0.04368527978658676 Testing loss 0.11515693366527557\n",
            "Epoch 50 Training Loss 0.04042576253414154 Testing loss 0.10273885726928711\n",
            "Epoch 60 Training Loss 0.03734460100531578 Testing loss 0.09459733217954636\n",
            "Epoch 70 Training Loss 0.03427761048078537 Testing loss 0.08645584434270859\n",
            "Epoch 80 Training Loss 0.03120969794690609 Testing loss 0.07867151498794556\n",
            "Epoch 90 Training Loss 0.02814178168773651 Testing loss 0.07088716328144073\n",
            "Epoch 100 Training Loss 0.025073867291212082 Testing loss 0.0631028339266777\n",
            "Epoch 110 Training Loss 0.022005952894687653 Testing loss 0.05531850829720497\n",
            "Epoch 120 Training Loss 0.018938036635518074 Testing loss 0.04753417149186134\n",
            "Epoch 130 Training Loss 0.015870125964283943 Testing loss 0.039749838411808014\n",
            "Epoch 140 Training Loss 0.012802702374756336 Testing loss 0.03160834312438965\n"
          ]
        }
      ]
    },
    {
      "cell_type": "markdown",
      "source": [
        "## Plotting the loss"
      ],
      "metadata": {
        "id": "tEKnNNyXylaJ"
      }
    },
    {
      "cell_type": "code",
      "source": [
        "plt.plot(epoch_count, train_loss_values, label=\"Train loss\")\n",
        "plt.plot(epoch_count, test_loss_values, label=\"Test loss\")\n",
        "plt.title(\"Training and test loss curves\")\n",
        "plt.ylabel(\"Loss\")\n",
        "plt.xlabel(\"Epochs\")\n",
        "plt.legend()"
      ],
      "metadata": {
        "colab": {
          "base_uri": "https://localhost:8080/",
          "height": 489
        },
        "id": "9QqrodtKyn5E",
        "outputId": "3fd07c91-6710-42cf-e74e-7102ac629824"
      },
      "execution_count": 30,
      "outputs": [
        {
          "output_type": "execute_result",
          "data": {
            "text/plain": [
              "<matplotlib.legend.Legend at 0x7f2a6cc0dea0>"
            ]
          },
          "metadata": {},
          "execution_count": 30
        },
        {
          "output_type": "display_data",
          "data": {
            "text/plain": [
              "<Figure size 640x480 with 1 Axes>"
            ],
            "image/png": "[encoded data removed]"
          },
          "metadata": {}
        }
      ]
    },
    {
      "cell_type": "markdown",
      "source": [
        "# Predcitions of trained model"
      ],
      "metadata": {
        "id": "bRb55fyRyy4O"
      }
    },
    {
      "cell_type": "code",
      "source": [
        "with torch.inference_mode():\n",
        "    y_preds = model(x_test)\n",
        "\n",
        "    plot_graph(predictions=y_preds)"
      ],
      "metadata": {
        "colab": {
          "base_uri": "https://localhost:8080/",
          "height": 599
        },
        "id": "LoGiMoZ8y1YS",
        "outputId": "91f2625f-a98c-43c7-c8b0-2f33388eab02"
      },
      "execution_count": 32,
      "outputs": [
        {
          "output_type": "display_data",
          "data": {
            "text/plain": [
              "<Figure size 1000x700 with 1 Axes>"
            ],
            "image/png": "[encoded data removed]"
          },
          "metadata": {}
        }
      ]
    },
    {
      "cell_type": "markdown",
      "source": [
        "# Saving and loading"
      ],
      "metadata": {
        "id": "mrUjTKprzGqq"
      }
    },
    {
      "cell_type": "markdown",
      "source": [
        "The three methods are :    \n",
        "* `torch.save`\n",
        "* `torch.load`\n",
        "* `torch.nn.Module.load_state_dict`"
      ],
      "metadata": {
        "id": "FcZk6JqUzTvi"
      }
    },
    {
      "cell_type": "markdown",
      "source": [
        "## Saving"
      ],
      "metadata": {
        "id": "A7DUlTPSzJ23"
      }
    },
    {
      "cell_type": "code",
      "source": [
        "# saving the state_dict of the model\n",
        "model_name = \"Model.pth\"\n",
        "torch.save(obj = model.state_dict(),f=model_name)"
      ],
      "metadata": {
        "id": "kW2rRXcQzK1-"
      },
      "execution_count": 33,
      "outputs": []
    },
    {
      "cell_type": "markdown",
      "source": [
        "## Loading"
      ],
      "metadata": {
        "id": "x8XuNihK1s_c"
      }
    },
    {
      "cell_type": "code",
      "source": [
        "# create a new model\n",
        "new_model = LinearRegression()\n",
        "\n",
        "new_model.load_state_dict(torch.load(f=model_name))"
      ],
      "metadata": {
        "colab": {
          "base_uri": "https://localhost:8080/"
        },
        "id": "LmGsi0NZ1uSk",
        "outputId": "f0cbdd1d-6de1-4738-a807-b8568434d254"
      },
      "execution_count": 34,
      "outputs": [
        {
          "output_type": "execute_result",
          "data": {
            "text/plain": [
              "<All keys matched successfully>"
            ]
          },
          "metadata": {},
          "execution_count": 34
        }
      ]
    },
    {
      "cell_type": "code",
      "source": [
        "# checking the two models parameters\n",
        "model.state_dict(),new_model.state_dict()"
      ],
      "metadata": {
        "colab": {
          "base_uri": "https://localhost:8080/"
        },
        "id": "oEdc-5WR2Oja",
        "outputId": "010666a4-d2c6-48fe-95e2-5708bcd3738e"
      },
      "execution_count": 36,
      "outputs": [
        {
          "output_type": "execute_result",
          "data": {
            "text/plain": [
              "(OrderedDict([('weights', tensor([0.6483])), ('bias', tensor([0.3204]))]),\n",
              " OrderedDict([('weights', tensor([0.6483])), ('bias', tensor([0.3204]))]))"
            ]
          },
          "metadata": {},
          "execution_count": 36
        }
      ]
    }
  ]
}